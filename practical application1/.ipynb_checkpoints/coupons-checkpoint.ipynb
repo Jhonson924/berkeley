{
 "cells": [
  {
   "cell_type": "code",
   "execution_count": 6,
   "id": "fadda7e5-864d-495d-af8e-865fd8a6fe55",
   "metadata": {},
   "outputs": [],
   "source": [
    "import matplotlib.pyplot as plt\n",
    "import seaborn as sns\n",
    "import pandas as pd\n",
    "import numpy as np"
   ]
  },
  {
   "cell_type": "markdown",
   "id": "09c8069a-1277-40f3-bc4f-49ba7fac6e30",
   "metadata": {},
   "source": [
    "#### 1. Data Understanding"
   ]
  },
  {
   "cell_type": "code",
   "execution_count": 8,
   "id": "fb6a816b-e527-4b84-9603-0a8ed51d240c",
   "metadata": {},
   "outputs": [],
   "source": [
    "dfCoupons = pd.read_csv('data/coupons.csv')"
   ]
  },
  {
   "cell_type": "code",
   "execution_count": 10,
   "id": "2b77b805-bf83-4d1e-8e15-401b789cc4e3",
   "metadata": {},
   "outputs": [
    {
     "data": {
      "text/html": [
       "<div>\n",
       "<style scoped>\n",
       "    .dataframe tbody tr th:only-of-type {\n",
       "        vertical-align: middle;\n",
       "    }\n",
       "\n",
       "    .dataframe tbody tr th {\n",
       "        vertical-align: top;\n",
       "    }\n",
       "\n",
       "    .dataframe thead th {\n",
       "        text-align: right;\n",
       "    }\n",
       "</style>\n",
       "<table border=\"1\" class=\"dataframe\">\n",
       "  <thead>\n",
       "    <tr style=\"text-align: right;\">\n",
       "      <th></th>\n",
       "      <th>destination</th>\n",
       "      <th>passanger</th>\n",
       "      <th>weather</th>\n",
       "      <th>temperature</th>\n",
       "      <th>time</th>\n",
       "      <th>coupon</th>\n",
       "      <th>expiration</th>\n",
       "      <th>gender</th>\n",
       "      <th>age</th>\n",
       "      <th>maritalStatus</th>\n",
       "      <th>...</th>\n",
       "      <th>CoffeeHouse</th>\n",
       "      <th>CarryAway</th>\n",
       "      <th>RestaurantLessThan20</th>\n",
       "      <th>Restaurant20To50</th>\n",
       "      <th>toCoupon_GEQ5min</th>\n",
       "      <th>toCoupon_GEQ15min</th>\n",
       "      <th>toCoupon_GEQ25min</th>\n",
       "      <th>direction_same</th>\n",
       "      <th>direction_opp</th>\n",
       "      <th>Y</th>\n",
       "    </tr>\n",
       "  </thead>\n",
       "  <tbody>\n",
       "    <tr>\n",
       "      <th>0</th>\n",
       "      <td>No Urgent Place</td>\n",
       "      <td>Alone</td>\n",
       "      <td>Sunny</td>\n",
       "      <td>55</td>\n",
       "      <td>2PM</td>\n",
       "      <td>Restaurant(&lt;20)</td>\n",
       "      <td>1d</td>\n",
       "      <td>Female</td>\n",
       "      <td>21</td>\n",
       "      <td>Unmarried partner</td>\n",
       "      <td>...</td>\n",
       "      <td>never</td>\n",
       "      <td>NaN</td>\n",
       "      <td>4~8</td>\n",
       "      <td>1~3</td>\n",
       "      <td>1</td>\n",
       "      <td>0</td>\n",
       "      <td>0</td>\n",
       "      <td>0</td>\n",
       "      <td>1</td>\n",
       "      <td>1</td>\n",
       "    </tr>\n",
       "    <tr>\n",
       "      <th>1</th>\n",
       "      <td>No Urgent Place</td>\n",
       "      <td>Friend(s)</td>\n",
       "      <td>Sunny</td>\n",
       "      <td>80</td>\n",
       "      <td>10AM</td>\n",
       "      <td>Coffee House</td>\n",
       "      <td>2h</td>\n",
       "      <td>Female</td>\n",
       "      <td>21</td>\n",
       "      <td>Unmarried partner</td>\n",
       "      <td>...</td>\n",
       "      <td>never</td>\n",
       "      <td>NaN</td>\n",
       "      <td>4~8</td>\n",
       "      <td>1~3</td>\n",
       "      <td>1</td>\n",
       "      <td>0</td>\n",
       "      <td>0</td>\n",
       "      <td>0</td>\n",
       "      <td>1</td>\n",
       "      <td>0</td>\n",
       "    </tr>\n",
       "    <tr>\n",
       "      <th>2</th>\n",
       "      <td>No Urgent Place</td>\n",
       "      <td>Friend(s)</td>\n",
       "      <td>Sunny</td>\n",
       "      <td>80</td>\n",
       "      <td>10AM</td>\n",
       "      <td>Carry out &amp; Take away</td>\n",
       "      <td>2h</td>\n",
       "      <td>Female</td>\n",
       "      <td>21</td>\n",
       "      <td>Unmarried partner</td>\n",
       "      <td>...</td>\n",
       "      <td>never</td>\n",
       "      <td>NaN</td>\n",
       "      <td>4~8</td>\n",
       "      <td>1~3</td>\n",
       "      <td>1</td>\n",
       "      <td>1</td>\n",
       "      <td>0</td>\n",
       "      <td>0</td>\n",
       "      <td>1</td>\n",
       "      <td>1</td>\n",
       "    </tr>\n",
       "    <tr>\n",
       "      <th>3</th>\n",
       "      <td>No Urgent Place</td>\n",
       "      <td>Friend(s)</td>\n",
       "      <td>Sunny</td>\n",
       "      <td>80</td>\n",
       "      <td>2PM</td>\n",
       "      <td>Coffee House</td>\n",
       "      <td>2h</td>\n",
       "      <td>Female</td>\n",
       "      <td>21</td>\n",
       "      <td>Unmarried partner</td>\n",
       "      <td>...</td>\n",
       "      <td>never</td>\n",
       "      <td>NaN</td>\n",
       "      <td>4~8</td>\n",
       "      <td>1~3</td>\n",
       "      <td>1</td>\n",
       "      <td>1</td>\n",
       "      <td>0</td>\n",
       "      <td>0</td>\n",
       "      <td>1</td>\n",
       "      <td>0</td>\n",
       "    </tr>\n",
       "    <tr>\n",
       "      <th>4</th>\n",
       "      <td>No Urgent Place</td>\n",
       "      <td>Friend(s)</td>\n",
       "      <td>Sunny</td>\n",
       "      <td>80</td>\n",
       "      <td>2PM</td>\n",
       "      <td>Coffee House</td>\n",
       "      <td>1d</td>\n",
       "      <td>Female</td>\n",
       "      <td>21</td>\n",
       "      <td>Unmarried partner</td>\n",
       "      <td>...</td>\n",
       "      <td>never</td>\n",
       "      <td>NaN</td>\n",
       "      <td>4~8</td>\n",
       "      <td>1~3</td>\n",
       "      <td>1</td>\n",
       "      <td>1</td>\n",
       "      <td>0</td>\n",
       "      <td>0</td>\n",
       "      <td>1</td>\n",
       "      <td>0</td>\n",
       "    </tr>\n",
       "  </tbody>\n",
       "</table>\n",
       "<p>5 rows × 26 columns</p>\n",
       "</div>"
      ],
      "text/plain": [
       "       destination  passanger weather  temperature  time  \\\n",
       "0  No Urgent Place      Alone   Sunny           55   2PM   \n",
       "1  No Urgent Place  Friend(s)   Sunny           80  10AM   \n",
       "2  No Urgent Place  Friend(s)   Sunny           80  10AM   \n",
       "3  No Urgent Place  Friend(s)   Sunny           80   2PM   \n",
       "4  No Urgent Place  Friend(s)   Sunny           80   2PM   \n",
       "\n",
       "                  coupon expiration  gender age      maritalStatus  ...  \\\n",
       "0        Restaurant(<20)         1d  Female  21  Unmarried partner  ...   \n",
       "1           Coffee House         2h  Female  21  Unmarried partner  ...   \n",
       "2  Carry out & Take away         2h  Female  21  Unmarried partner  ...   \n",
       "3           Coffee House         2h  Female  21  Unmarried partner  ...   \n",
       "4           Coffee House         1d  Female  21  Unmarried partner  ...   \n",
       "\n",
       "   CoffeeHouse CarryAway RestaurantLessThan20 Restaurant20To50  \\\n",
       "0        never       NaN                  4~8              1~3   \n",
       "1        never       NaN                  4~8              1~3   \n",
       "2        never       NaN                  4~8              1~3   \n",
       "3        never       NaN                  4~8              1~3   \n",
       "4        never       NaN                  4~8              1~3   \n",
       "\n",
       "  toCoupon_GEQ5min toCoupon_GEQ15min toCoupon_GEQ25min direction_same  \\\n",
       "0                1                 0                 0              0   \n",
       "1                1                 0                 0              0   \n",
       "2                1                 1                 0              0   \n",
       "3                1                 1                 0              0   \n",
       "4                1                 1                 0              0   \n",
       "\n",
       "  direction_opp  Y  \n",
       "0             1  1  \n",
       "1             1  0  \n",
       "2             1  1  \n",
       "3             1  0  \n",
       "4             1  0  \n",
       "\n",
       "[5 rows x 26 columns]"
      ]
     },
     "execution_count": 10,
     "metadata": {},
     "output_type": "execute_result"
    }
   ],
   "source": [
    "dfCoupons.head()"
   ]
  },
  {
   "cell_type": "code",
   "execution_count": 22,
   "id": "df8bad84-43d0-49a0-bf32-69130f001274",
   "metadata": {},
   "outputs": [
    {
     "name": "stdout",
     "output_type": "stream",
     "text": [
      "<class 'pandas.core.frame.DataFrame'>\n",
      "RangeIndex: 12684 entries, 0 to 12683\n",
      "Data columns (total 26 columns):\n",
      " #   Column                Non-Null Count  Dtype \n",
      "---  ------                --------------  ----- \n",
      " 0   destination           12684 non-null  object\n",
      " 1   passanger             12684 non-null  object\n",
      " 2   weather               12684 non-null  object\n",
      " 3   temperature           12684 non-null  int64 \n",
      " 4   time                  12684 non-null  object\n",
      " 5   coupon                12684 non-null  object\n",
      " 6   expiration            12684 non-null  object\n",
      " 7   gender                12684 non-null  object\n",
      " 8   age                   12684 non-null  object\n",
      " 9   maritalStatus         12684 non-null  object\n",
      " 10  has_children          12684 non-null  int64 \n",
      " 11  education             12684 non-null  object\n",
      " 12  occupation            12684 non-null  object\n",
      " 13  income                12684 non-null  object\n",
      " 14  car                   108 non-null    object\n",
      " 15  Bar                   12577 non-null  object\n",
      " 16  CoffeeHouse           12467 non-null  object\n",
      " 17  CarryAway             12533 non-null  object\n",
      " 18  RestaurantLessThan20  12554 non-null  object\n",
      " 19  Restaurant20To50      12495 non-null  object\n",
      " 20  toCoupon_GEQ5min      12684 non-null  int64 \n",
      " 21  toCoupon_GEQ15min     12684 non-null  int64 \n",
      " 22  toCoupon_GEQ25min     12684 non-null  int64 \n",
      " 23  direction_same        12684 non-null  int64 \n",
      " 24  direction_opp         12684 non-null  int64 \n",
      " 25  Y                     12684 non-null  int64 \n",
      "dtypes: int64(8), object(18)\n",
      "memory usage: 2.5+ MB\n"
     ]
    }
   ],
   "source": [
    "dfCoupons.info()"
   ]
  },
  {
   "cell_type": "code",
   "execution_count": 108,
   "id": "afa6d0a2-477c-4d3b-b97f-7ca4d16c1dc9",
   "metadata": {},
   "outputs": [
    {
     "data": {
      "text/plain": [
       "(12684, 26)"
      ]
     },
     "execution_count": 108,
     "metadata": {},
     "output_type": "execute_result"
    }
   ],
   "source": [
    "dfCoupons.shape"
   ]
  },
  {
   "cell_type": "markdown",
   "id": "2a34d57a-5020-4188-8104-5e53cfc8461a",
   "metadata": {},
   "source": [
    "##### 1.1 Data Understanding Visualization (Before Cleaning)"
   ]
  },
  {
   "cell_type": "code",
   "execution_count": 446,
   "id": "b8a7cb25-5d50-4390-9e95-e41fc647816d",
   "metadata": {},
   "outputs": [
    {
     "name": "stdout",
     "output_type": "stream",
     "text": [
      "Y\n",
      "1    7210\n",
      "0    5474\n",
      "Name: count, dtype: int64\n"
     ]
    },
    {
     "data": {
      "image/png": "[encoded data removed]",
      "text/plain": [
       "<Figure size 640x480 with 1 Axes>"
      ]
     },
     "metadata": {},
     "output_type": "display_data"
    }
   ],
   "source": [
    "dfCoupons['Y'].value_counts().plot(kind='pie',explode=[0.1,0.1],autopct='%1.1f%%',colors=['g','r'])\n",
    "print(dfCoupons['Y'].value_counts())"
   ]
  },
  {
   "cell_type": "code",
   "execution_count": 477,
   "id": "86df71c8-e8fe-40f5-b305-159db98a8cc5",
   "metadata": {},
   "outputs": [
    {
     "data": {
      "text/plain": [
       "Text(0.5, 1.0, 'coupon Vs Acceptance')"
      ]
     },
     "execution_count": 477,
     "metadata": {},
     "output_type": "execute_result"
    },
    {
     "data": {
      "image/png": "[encoded data removed]",
      "text/plain": [
       "<Figure size 1200x500 with 1 Axes>"
      ]
     },
     "metadata": {},
     "output_type": "display_data"
    }
   ],
   "source": [
    "plt.figure(figsize=(12,5))\n",
    "sns.countplot(x='coupon', hue='Y', data=dfCoupons)\n",
    "plt.title('coupon Vs Acceptance')\n",
    "\n",
    "\n"
   ]
  },
  {
   "cell_type": "code",
   "execution_count": 460,
   "id": "73a11666-fcc8-48ac-8184-eb27691cfc36",
   "metadata": {},
   "outputs": [
    {
     "data": {
      "text/plain": [
       "Text(0.5, 1.0, 'Gender Vs Age')"
      ]
     },
     "execution_count": 460,
     "metadata": {},
     "output_type": "execute_result"
    },
    {
     "data": {
      "image/png": "[encoded data removed]",
      "text/plain": [
       "<Figure size 1200x500 with 2 Axes>"
      ]
     },
     "metadata": {},
     "output_type": "display_data"
    }
   ],
   "source": [
    "plt.figure(figsize=(12,5))\n",
    "plt.subplot(121)\n",
    "sns.countplot(x='gender', hue='Y', data=dfCoupons)\n",
    "plt.title('Gender Vs Coupon Acceptance')\n",
    "\n",
    "plt.subplot(122)\n",
    "sns.boxplot(x=dfCoupons['gender'],y=dfCoupons['age'],hue='Y',data=dfCoupons)\n",
    "plt.title('Gender Vs Age')\n",
    "\n"
   ]
  },
  {
   "cell_type": "code",
   "execution_count": 479,
   "id": "1f6d9235-f32b-45b9-a929-6523bed80849",
   "metadata": {},
   "outputs": [
    {
     "data": {
      "image/png": "[encoded data removed]",
      "text/plain": [
       "<Figure size 1400x1000 with 9 Axes>"
      ]
     },
     "metadata": {},
     "output_type": "display_data"
    }
   ],
   "source": [
    "numerical_features = ['temperature', 'has_children', 'toCoupon_GEQ5min', 'toCoupon_GEQ15min', 'toCoupon_GEQ25min', 'direction_same', 'direction_opp','Y']\n",
    "dfCoupons[numerical_features].hist(bins=20, figsize=(14, 10), color='skyblue', edgecolor='black')\n",
    "plt.suptitle('Distribution of Numerical Features', fontsize=16)\n",
    "plt.tight_layout()\n",
    "plt.show()"
   ]
  },
  {
   "cell_type": "markdown",
   "id": "750c9c31-73b2-4338-9433-6997fc199b42",
   "metadata": {},
   "source": [
    "#### 2. Data Preparation"
   ]
  },
  {
   "cell_type": "markdown",
   "id": "f8a8bab8-1a6a-429f-a2d2-6f681368660c",
   "metadata": {},
   "source": [
    "##### Investigate the dataset for missing or problematic data."
   ]
  },
  {
   "cell_type": "markdown",
   "id": "6d15219b-6a39-473e-8017-6ef865109450",
   "metadata": {},
   "source": [
    "#### 2.1 Null Value analysis"
   ]
  },
  {
   "cell_type": "code",
   "execution_count": 192,
   "id": "c8eea83e-f33f-4ac3-ba3c-b97aeeeae290",
   "metadata": {},
   "outputs": [
    {
     "name": "stdout",
     "output_type": "stream",
     "text": [
      "Missing Values Summary:\n",
      " destination                 0\n",
      "passanger                   0\n",
      "weather                     0\n",
      "temperature                 0\n",
      "time                        0\n",
      "coupon                      0\n",
      "expiration                  0\n",
      "gender                      0\n",
      "age                         0\n",
      "maritalStatus               0\n",
      "has_children                0\n",
      "education                   0\n",
      "occupation                  0\n",
      "income                      0\n",
      "car                     12576\n",
      "Bar                       107\n",
      "CoffeeHouse               217\n",
      "CarryAway                 151\n",
      "RestaurantLessThan20      130\n",
      "Restaurant20To50          189\n",
      "toCoupon_GEQ5min            0\n",
      "toCoupon_GEQ15min           0\n",
      "toCoupon_GEQ25min           0\n",
      "direction_same              0\n",
      "direction_opp               0\n",
      "Y                           0\n",
      "dtype: int64\n"
     ]
    }
   ],
   "source": [
    "missing_summary = dfCoupons.isnull().sum()\n",
    "print(\"Missing Values Summary:\\n\", missing_summary)"
   ]
  },
  {
   "cell_type": "code",
   "execution_count": 116,
   "id": "adbc0fdd-a7eb-4269-9ab4-821dc91eeaca",
   "metadata": {},
   "outputs": [],
   "source": [
    "dfNull = dfCoupons.isnull().sum()"
   ]
  },
  {
   "cell_type": "code",
   "execution_count": 118,
   "id": "328c1989-0a76-4d88-afff-83b1c80d6bda",
   "metadata": {},
   "outputs": [
    {
     "data": {
      "text/plain": [
       "car                     12576\n",
       "Bar                       107\n",
       "CoffeeHouse               217\n",
       "CarryAway                 151\n",
       "RestaurantLessThan20      130\n",
       "Restaurant20To50          189\n",
       "dtype: int64"
      ]
     },
     "execution_count": 118,
     "metadata": {},
     "output_type": "execute_result"
    }
   ],
   "source": [
    "dfNull[dfNull != 0]"
   ]
  },
  {
   "cell_type": "markdown",
   "id": "6832fa99-c207-41e5-b65e-fd9e3aa724a0",
   "metadata": {},
   "source": [
    "#### 2.2 Duplicates"
   ]
  },
  {
   "cell_type": "code",
   "execution_count": 129,
   "id": "352e169a-f92e-4746-81d4-b11871b372e5",
   "metadata": {},
   "outputs": [
    {
     "data": {
      "text/plain": [
       "74"
      ]
     },
     "execution_count": 129,
     "metadata": {},
     "output_type": "execute_result"
    }
   ],
   "source": [
    "dfCoupons.duplicated().sum()"
   ]
  },
  {
   "cell_type": "code",
   "execution_count": 131,
   "id": "8e47acb5-d679-4d30-8801-f2842c37b502",
   "metadata": {},
   "outputs": [],
   "source": [
    "dfDuplicate = dfCoupons.duplicated().sum()"
   ]
  },
  {
   "cell_type": "markdown",
   "id": "ba9a93d0-2cbc-4660-8dad-e9f979a36525",
   "metadata": {},
   "source": [
    "#### 3. Cleaning data"
   ]
  },
  {
   "cell_type": "markdown",
   "id": "e46e19c2-3178-427b-ab9c-f1e22bcb5cd1",
   "metadata": {},
   "source": [
    "##### Decide what to do about your missing data -- drop, replace, other..."
   ]
  },
  {
   "cell_type": "markdown",
   "id": "718348e0-430e-4218-aa10-f7c69e5c9e79",
   "metadata": {},
   "source": [
    "#### 3.1 Remove duplicates (total count = 74))"
   ]
  },
  {
   "cell_type": "code",
   "execution_count": 140,
   "id": "3d03a422-97e9-4b69-90d2-3cd243fd6940",
   "metadata": {},
   "outputs": [
    {
     "data": {
      "text/html": [
       "<div>\n",
       "<style scoped>\n",
       "    .dataframe tbody tr th:only-of-type {\n",
       "        vertical-align: middle;\n",
       "    }\n",
       "\n",
       "    .dataframe tbody tr th {\n",
       "        vertical-align: top;\n",
       "    }\n",
       "\n",
       "    .dataframe thead th {\n",
       "        text-align: right;\n",
       "    }\n",
       "</style>\n",
       "<table border=\"1\" class=\"dataframe\">\n",
       "  <thead>\n",
       "    <tr style=\"text-align: right;\">\n",
       "      <th></th>\n",
       "      <th>destination</th>\n",
       "      <th>passanger</th>\n",
       "      <th>weather</th>\n",
       "      <th>temperature</th>\n",
       "      <th>time</th>\n",
       "      <th>coupon</th>\n",
       "      <th>expiration</th>\n",
       "      <th>gender</th>\n",
       "      <th>age</th>\n",
       "      <th>maritalStatus</th>\n",
       "      <th>...</th>\n",
       "      <th>CoffeeHouse</th>\n",
       "      <th>CarryAway</th>\n",
       "      <th>RestaurantLessThan20</th>\n",
       "      <th>Restaurant20To50</th>\n",
       "      <th>toCoupon_GEQ5min</th>\n",
       "      <th>toCoupon_GEQ15min</th>\n",
       "      <th>toCoupon_GEQ25min</th>\n",
       "      <th>direction_same</th>\n",
       "      <th>direction_opp</th>\n",
       "      <th>Y</th>\n",
       "    </tr>\n",
       "  </thead>\n",
       "  <tbody>\n",
       "    <tr>\n",
       "      <th>4192</th>\n",
       "      <td>Work</td>\n",
       "      <td>Alone</td>\n",
       "      <td>Sunny</td>\n",
       "      <td>80</td>\n",
       "      <td>7AM</td>\n",
       "      <td>Carry out &amp; Take away</td>\n",
       "      <td>1d</td>\n",
       "      <td>Male</td>\n",
       "      <td>26</td>\n",
       "      <td>Single</td>\n",
       "      <td>...</td>\n",
       "      <td>never</td>\n",
       "      <td>1~3</td>\n",
       "      <td>less1</td>\n",
       "      <td>less1</td>\n",
       "      <td>1</td>\n",
       "      <td>1</td>\n",
       "      <td>1</td>\n",
       "      <td>0</td>\n",
       "      <td>1</td>\n",
       "      <td>1</td>\n",
       "    </tr>\n",
       "    <tr>\n",
       "      <th>4236</th>\n",
       "      <td>Work</td>\n",
       "      <td>Alone</td>\n",
       "      <td>Sunny</td>\n",
       "      <td>80</td>\n",
       "      <td>7AM</td>\n",
       "      <td>Carry out &amp; Take away</td>\n",
       "      <td>1d</td>\n",
       "      <td>Male</td>\n",
       "      <td>26</td>\n",
       "      <td>Single</td>\n",
       "      <td>...</td>\n",
       "      <td>gt8</td>\n",
       "      <td>gt8</td>\n",
       "      <td>4~8</td>\n",
       "      <td>less1</td>\n",
       "      <td>1</td>\n",
       "      <td>1</td>\n",
       "      <td>1</td>\n",
       "      <td>0</td>\n",
       "      <td>1</td>\n",
       "      <td>1</td>\n",
       "    </tr>\n",
       "    <tr>\n",
       "      <th>4280</th>\n",
       "      <td>Work</td>\n",
       "      <td>Alone</td>\n",
       "      <td>Sunny</td>\n",
       "      <td>80</td>\n",
       "      <td>7AM</td>\n",
       "      <td>Carry out &amp; Take away</td>\n",
       "      <td>1d</td>\n",
       "      <td>Female</td>\n",
       "      <td>26</td>\n",
       "      <td>Single</td>\n",
       "      <td>...</td>\n",
       "      <td>never</td>\n",
       "      <td>4~8</td>\n",
       "      <td>1~3</td>\n",
       "      <td>less1</td>\n",
       "      <td>1</td>\n",
       "      <td>1</td>\n",
       "      <td>1</td>\n",
       "      <td>0</td>\n",
       "      <td>1</td>\n",
       "      <td>1</td>\n",
       "    </tr>\n",
       "  </tbody>\n",
       "</table>\n",
       "<p>3 rows × 26 columns</p>\n",
       "</div>"
      ],
      "text/plain": [
       "     destination passanger weather  temperature time                 coupon  \\\n",
       "4192        Work     Alone   Sunny           80  7AM  Carry out & Take away   \n",
       "4236        Work     Alone   Sunny           80  7AM  Carry out & Take away   \n",
       "4280        Work     Alone   Sunny           80  7AM  Carry out & Take away   \n",
       "\n",
       "     expiration  gender age maritalStatus  ...  CoffeeHouse CarryAway  \\\n",
       "4192         1d    Male  26        Single  ...        never       1~3   \n",
       "4236         1d    Male  26        Single  ...          gt8       gt8   \n",
       "4280         1d  Female  26        Single  ...        never       4~8   \n",
       "\n",
       "     RestaurantLessThan20 Restaurant20To50 toCoupon_GEQ5min toCoupon_GEQ15min  \\\n",
       "4192                less1            less1                1                 1   \n",
       "4236                  4~8            less1                1                 1   \n",
       "4280                  1~3            less1                1                 1   \n",
       "\n",
       "     toCoupon_GEQ25min direction_same direction_opp  Y  \n",
       "4192                 1              0             1  1  \n",
       "4236                 1              0             1  1  \n",
       "4280                 1              0             1  1  \n",
       "\n",
       "[3 rows x 26 columns]"
      ]
     },
     "execution_count": 140,
     "metadata": {},
     "output_type": "execute_result"
    }
   ],
   "source": [
    "dfCoupons[dfCoupons.duplicated()].head(3)"
   ]
  },
  {
   "cell_type": "code",
   "execution_count": 73,
   "id": "7e3e0f6d-a253-4c56-8657-26d448c8e490",
   "metadata": {},
   "outputs": [],
   "source": [
    "dfCouponDropDuplicate = dfCoupons.drop_duplicates()"
   ]
  },
  {
   "cell_type": "code",
   "execution_count": 143,
   "id": "8c768b96-83f1-4519-a5c0-8c4f7c9264c2",
   "metadata": {},
   "outputs": [
    {
     "data": {
      "text/html": [
       "<div>\n",
       "<style scoped>\n",
       "    .dataframe tbody tr th:only-of-type {\n",
       "        vertical-align: middle;\n",
       "    }\n",
       "\n",
       "    .dataframe tbody tr th {\n",
       "        vertical-align: top;\n",
       "    }\n",
       "\n",
       "    .dataframe thead th {\n",
       "        text-align: right;\n",
       "    }\n",
       "</style>\n",
       "<table border=\"1\" class=\"dataframe\">\n",
       "  <thead>\n",
       "    <tr style=\"text-align: right;\">\n",
       "      <th></th>\n",
       "      <th>destination</th>\n",
       "      <th>passanger</th>\n",
       "      <th>weather</th>\n",
       "      <th>temperature</th>\n",
       "      <th>time</th>\n",
       "      <th>coupon</th>\n",
       "      <th>expiration</th>\n",
       "      <th>gender</th>\n",
       "      <th>age</th>\n",
       "      <th>maritalStatus</th>\n",
       "      <th>...</th>\n",
       "      <th>CoffeeHouse</th>\n",
       "      <th>CarryAway</th>\n",
       "      <th>RestaurantLessThan20</th>\n",
       "      <th>Restaurant20To50</th>\n",
       "      <th>toCoupon_GEQ5min</th>\n",
       "      <th>toCoupon_GEQ15min</th>\n",
       "      <th>toCoupon_GEQ25min</th>\n",
       "      <th>direction_same</th>\n",
       "      <th>direction_opp</th>\n",
       "      <th>Y</th>\n",
       "    </tr>\n",
       "  </thead>\n",
       "  <tbody>\n",
       "    <tr>\n",
       "      <th>0</th>\n",
       "      <td>No Urgent Place</td>\n",
       "      <td>Alone</td>\n",
       "      <td>Sunny</td>\n",
       "      <td>55</td>\n",
       "      <td>2PM</td>\n",
       "      <td>Restaurant(&lt;20)</td>\n",
       "      <td>1d</td>\n",
       "      <td>Female</td>\n",
       "      <td>21</td>\n",
       "      <td>Unmarried partner</td>\n",
       "      <td>...</td>\n",
       "      <td>never</td>\n",
       "      <td>NaN</td>\n",
       "      <td>4~8</td>\n",
       "      <td>1~3</td>\n",
       "      <td>1</td>\n",
       "      <td>0</td>\n",
       "      <td>0</td>\n",
       "      <td>0</td>\n",
       "      <td>1</td>\n",
       "      <td>1</td>\n",
       "    </tr>\n",
       "    <tr>\n",
       "      <th>1</th>\n",
       "      <td>No Urgent Place</td>\n",
       "      <td>Friend(s)</td>\n",
       "      <td>Sunny</td>\n",
       "      <td>80</td>\n",
       "      <td>10AM</td>\n",
       "      <td>Coffee House</td>\n",
       "      <td>2h</td>\n",
       "      <td>Female</td>\n",
       "      <td>21</td>\n",
       "      <td>Unmarried partner</td>\n",
       "      <td>...</td>\n",
       "      <td>never</td>\n",
       "      <td>NaN</td>\n",
       "      <td>4~8</td>\n",
       "      <td>1~3</td>\n",
       "      <td>1</td>\n",
       "      <td>0</td>\n",
       "      <td>0</td>\n",
       "      <td>0</td>\n",
       "      <td>1</td>\n",
       "      <td>0</td>\n",
       "    </tr>\n",
       "    <tr>\n",
       "      <th>2</th>\n",
       "      <td>No Urgent Place</td>\n",
       "      <td>Friend(s)</td>\n",
       "      <td>Sunny</td>\n",
       "      <td>80</td>\n",
       "      <td>10AM</td>\n",
       "      <td>Carry out &amp; Take away</td>\n",
       "      <td>2h</td>\n",
       "      <td>Female</td>\n",
       "      <td>21</td>\n",
       "      <td>Unmarried partner</td>\n",
       "      <td>...</td>\n",
       "      <td>never</td>\n",
       "      <td>NaN</td>\n",
       "      <td>4~8</td>\n",
       "      <td>1~3</td>\n",
       "      <td>1</td>\n",
       "      <td>1</td>\n",
       "      <td>0</td>\n",
       "      <td>0</td>\n",
       "      <td>1</td>\n",
       "      <td>1</td>\n",
       "    </tr>\n",
       "    <tr>\n",
       "      <th>3</th>\n",
       "      <td>No Urgent Place</td>\n",
       "      <td>Friend(s)</td>\n",
       "      <td>Sunny</td>\n",
       "      <td>80</td>\n",
       "      <td>2PM</td>\n",
       "      <td>Coffee House</td>\n",
       "      <td>2h</td>\n",
       "      <td>Female</td>\n",
       "      <td>21</td>\n",
       "      <td>Unmarried partner</td>\n",
       "      <td>...</td>\n",
       "      <td>never</td>\n",
       "      <td>NaN</td>\n",
       "      <td>4~8</td>\n",
       "      <td>1~3</td>\n",
       "      <td>1</td>\n",
       "      <td>1</td>\n",
       "      <td>0</td>\n",
       "      <td>0</td>\n",
       "      <td>1</td>\n",
       "      <td>0</td>\n",
       "    </tr>\n",
       "    <tr>\n",
       "      <th>4</th>\n",
       "      <td>No Urgent Place</td>\n",
       "      <td>Friend(s)</td>\n",
       "      <td>Sunny</td>\n",
       "      <td>80</td>\n",
       "      <td>2PM</td>\n",
       "      <td>Coffee House</td>\n",
       "      <td>1d</td>\n",
       "      <td>Female</td>\n",
       "      <td>21</td>\n",
       "      <td>Unmarried partner</td>\n",
       "      <td>...</td>\n",
       "      <td>never</td>\n",
       "      <td>NaN</td>\n",
       "      <td>4~8</td>\n",
       "      <td>1~3</td>\n",
       "      <td>1</td>\n",
       "      <td>1</td>\n",
       "      <td>0</td>\n",
       "      <td>0</td>\n",
       "      <td>1</td>\n",
       "      <td>0</td>\n",
       "    </tr>\n",
       "  </tbody>\n",
       "</table>\n",
       "<p>5 rows × 26 columns</p>\n",
       "</div>"
      ],
      "text/plain": [
       "       destination  passanger weather  temperature  time  \\\n",
       "0  No Urgent Place      Alone   Sunny           55   2PM   \n",
       "1  No Urgent Place  Friend(s)   Sunny           80  10AM   \n",
       "2  No Urgent Place  Friend(s)   Sunny           80  10AM   \n",
       "3  No Urgent Place  Friend(s)   Sunny           80   2PM   \n",
       "4  No Urgent Place  Friend(s)   Sunny           80   2PM   \n",
       "\n",
       "                  coupon expiration  gender age      maritalStatus  ...  \\\n",
       "0        Restaurant(<20)         1d  Female  21  Unmarried partner  ...   \n",
       "1           Coffee House         2h  Female  21  Unmarried partner  ...   \n",
       "2  Carry out & Take away         2h  Female  21  Unmarried partner  ...   \n",
       "3           Coffee House         2h  Female  21  Unmarried partner  ...   \n",
       "4           Coffee House         1d  Female  21  Unmarried partner  ...   \n",
       "\n",
       "   CoffeeHouse CarryAway RestaurantLessThan20 Restaurant20To50  \\\n",
       "0        never       NaN                  4~8              1~3   \n",
       "1        never       NaN                  4~8              1~3   \n",
       "2        never       NaN                  4~8              1~3   \n",
       "3        never       NaN                  4~8              1~3   \n",
       "4        never       NaN                  4~8              1~3   \n",
       "\n",
       "  toCoupon_GEQ5min toCoupon_GEQ15min toCoupon_GEQ25min direction_same  \\\n",
       "0                1                 0                 0              0   \n",
       "1                1                 0                 0              0   \n",
       "2                1                 1                 0              0   \n",
       "3                1                 1                 0              0   \n",
       "4                1                 1                 0              0   \n",
       "\n",
       "  direction_opp  Y  \n",
       "0             1  1  \n",
       "1             1  0  \n",
       "2             1  1  \n",
       "3             1  0  \n",
       "4             1  0  \n",
       "\n",
       "[5 rows x 26 columns]"
      ]
     },
     "execution_count": 143,
     "metadata": {},
     "output_type": "execute_result"
    }
   ],
   "source": [
    "dfCouponDropDuplicate.head()"
   ]
  },
  {
   "cell_type": "code",
   "execution_count": 147,
   "id": "07ff1b63-4f03-4232-85d0-f9a9a8218b4b",
   "metadata": {},
   "outputs": [
    {
     "data": {
      "text/plain": [
       "(12684, 26)"
      ]
     },
     "execution_count": 147,
     "metadata": {},
     "output_type": "execute_result"
    }
   ],
   "source": [
    "dfCoupons.shape"
   ]
  },
  {
   "cell_type": "code",
   "execution_count": 149,
   "id": "56b37b46-d164-4dc7-8bb4-5d517e5524ee",
   "metadata": {},
   "outputs": [
    {
     "data": {
      "text/plain": [
       "(12610, 26)"
      ]
     },
     "execution_count": 149,
     "metadata": {},
     "output_type": "execute_result"
    }
   ],
   "source": [
    "dfCouponDropDuplicate.shape"
   ]
  },
  {
   "cell_type": "markdown",
   "id": "99fd652a-5d7e-430c-b963-8635951d3ef1",
   "metadata": {},
   "source": [
    "#### 3.2 Drop column Car as 95% of column is null"
   ]
  },
  {
   "cell_type": "code",
   "execution_count": 87,
   "id": "a06423b4-709e-47a3-8618-1ae32d902642",
   "metadata": {},
   "outputs": [],
   "source": [
    "dfCouponDropColCar = dfCouponDropDuplicate.drop('car', axis=1)"
   ]
  },
  {
   "cell_type": "code",
   "execution_count": 93,
   "id": "8ebe4877-28b5-49d0-a2ac-1d564712b564",
   "metadata": {},
   "outputs": [
    {
     "data": {
      "text/plain": [
       "destination               0\n",
       "passanger                 0\n",
       "weather                   0\n",
       "temperature               0\n",
       "time                      0\n",
       "coupon                    0\n",
       "expiration                0\n",
       "gender                    0\n",
       "age                       0\n",
       "maritalStatus             0\n",
       "has_children              0\n",
       "education                 0\n",
       "occupation                0\n",
       "income                    0\n",
       "Bar                     107\n",
       "CoffeeHouse             217\n",
       "CarryAway               150\n",
       "RestaurantLessThan20    129\n",
       "Restaurant20To50        189\n",
       "toCoupon_GEQ5min          0\n",
       "toCoupon_GEQ15min         0\n",
       "toCoupon_GEQ25min         0\n",
       "direction_same            0\n",
       "direction_opp             0\n",
       "Y                         0\n",
       "dtype: int64"
      ]
     },
     "execution_count": 93,
     "metadata": {},
     "output_type": "execute_result"
    }
   ],
   "source": [
    "dfCouponDropColCar.isnull().sum()"
   ]
  },
  {
   "cell_type": "markdown",
   "id": "7763ed22-fff2-41ee-b098-021243a9ea1b",
   "metadata": {},
   "source": [
    "#### 4. Fill Missing values with NAN"
   ]
  },
  {
   "cell_type": "code",
   "execution_count": 196,
   "id": "6a1eef62-4eee-4ab2-872f-43b1f0a71f5b",
   "metadata": {},
   "outputs": [],
   "source": [
    "dfCouponMissingVal = dfCouponDropColCar"
   ]
  },
  {
   "cell_type": "code",
   "execution_count": 202,
   "id": "8a58949f-b3b2-4900-a099-5b3218dcca26",
   "metadata": {},
   "outputs": [
    {
     "data": {
      "text/plain": [
       "destination               0\n",
       "passanger                 0\n",
       "weather                   0\n",
       "temperature               0\n",
       "time                      0\n",
       "coupon                    0\n",
       "expiration                0\n",
       "gender                    0\n",
       "age                       0\n",
       "maritalStatus             0\n",
       "has_children              0\n",
       "education                 0\n",
       "occupation                0\n",
       "income                    0\n",
       "Bar                     107\n",
       "CoffeeHouse             217\n",
       "CarryAway               150\n",
       "RestaurantLessThan20    129\n",
       "Restaurant20To50        189\n",
       "toCoupon_GEQ5min          0\n",
       "toCoupon_GEQ15min         0\n",
       "toCoupon_GEQ25min         0\n",
       "direction_same            0\n",
       "direction_opp             0\n",
       "Y                         0\n",
       "dtype: int64"
      ]
     },
     "execution_count": 202,
     "metadata": {},
     "output_type": "execute_result"
    }
   ],
   "source": [
    "dfCouponMissingVal.isnull().sum()"
   ]
  },
  {
   "cell_type": "code",
   "execution_count": 314,
   "id": "f05e56e1-d6fd-4141-a916-e4f1214d2ade",
   "metadata": {},
   "outputs": [],
   "source": [
    "dfCouponMissingVal['Bar'] = dfCouponMissingVal['Bar'].fillna('NaN')"
   ]
  },
  {
   "cell_type": "code",
   "execution_count": 316,
   "id": "30b0f165-ae8b-48b3-b1f5-c5817c16cb7a",
   "metadata": {},
   "outputs": [],
   "source": [
    "dfCouponMissingVal['CoffeeHouse'] = dfCouponMissingVal['CoffeeHouse'].fillna('NaN')"
   ]
  },
  {
   "cell_type": "code",
   "execution_count": 318,
   "id": "c2721a9d-5925-4375-b157-09fb430ba72e",
   "metadata": {},
   "outputs": [],
   "source": [
    "dfCouponMissingVal['CarryAway'] = dfCouponMissingVal['CarryAway'].fillna('NaN')"
   ]
  },
  {
   "cell_type": "code",
   "execution_count": 320,
   "id": "aa035a7f-62cd-4485-833f-e431a23887e6",
   "metadata": {},
   "outputs": [],
   "source": [
    "dfCouponMissingVal['RestaurantLessThan20'] = dfCouponMissingVal['RestaurantLessThan20'].fillna('NaN')"
   ]
  },
  {
   "cell_type": "code",
   "execution_count": 322,
   "id": "bffa1cc2-8d2f-46cc-8cc8-edec2518a3d0",
   "metadata": {},
   "outputs": [],
   "source": [
    "dfCouponMissingVal['Restaurant20To50'] = dfCouponMissingVal['Restaurant20To50'].fillna('nan')"
   ]
  },
  {
   "cell_type": "markdown",
   "id": "276ed7e2-c44c-4261-8aca-8b38c02371c2",
   "metadata": {},
   "source": [
    "##### 5. Creating new dataframe after data clean steps"
   ]
  },
  {
   "cell_type": "code",
   "execution_count": 324,
   "id": "21aaa51d-022a-4170-af4c-06fe29151dc1",
   "metadata": {},
   "outputs": [],
   "source": [
    "dfCouponUpdated = dfCouponMissingVal"
   ]
  },
  {
   "cell_type": "markdown",
   "id": "6f1a63bf-ea34-4019-b507-1178ae1e578e",
   "metadata": {},
   "source": [
    "##### What proportion of the total observations chose to accept the coupon?"
   ]
  },
  {
   "cell_type": "code",
   "execution_count": 326,
   "id": "be65e749-585f-4565-8be3-6a11cc191493",
   "metadata": {},
   "outputs": [],
   "source": [
    "accepted_coupons = dfCouponUpdated[dfCouponUpdated['Y'] == 1].shape[0]\n",
    "total_coupons = dfCouponUpdated.shape[0]\n",
    "proportion_accepted = accepted_coupons / total_coupons"
   ]
  },
  {
   "cell_type": "code",
   "execution_count": 328,
   "id": "f41f5c31-62ef-4990-8d32-e5cfa60a1f98",
   "metadata": {},
   "outputs": [
    {
     "name": "stdout",
     "output_type": "stream",
     "text": [
      "accepted coupons = 7157\n",
      "total coupons = 12610\n",
      "proportion_accepted = 0.5675654242664552\n"
     ]
    }
   ],
   "source": [
    "print (f\"accepted coupons = {accepted_coupons}\\ntotal coupons = {total_coupons}\\nproportion_accepted = {proportion_accepted}\")"
   ]
  },
  {
   "cell_type": "markdown",
   "id": "6c9115c9-a6a4-4617-9d5f-c757cdfa0afe",
   "metadata": {},
   "source": [
    "##### 6. Visualization"
   ]
  },
  {
   "cell_type": "markdown",
   "id": "474b7801-888c-422c-a080-6d1c8352a5d6",
   "metadata": {},
   "source": [
    "##### 6.1 Use a bar plot to visualize the coupon column."
   ]
  },
  {
   "cell_type": "code",
   "execution_count": 330,
   "id": "d3f32ee8-21c4-4f62-acbb-ca36479eab90",
   "metadata": {},
   "outputs": [
    {
     "data": {
      "image/png": "[encoded data removed]",
      "text/plain": [
       "<Figure size 1000x600 with 1 Axes>"
      ]
     },
     "metadata": {},
     "output_type": "display_data"
    }
   ],
   "source": [
    "plt.figure(figsize=(10, 6))\n",
    "sns.countplot(x='coupon', data=dfCouponUpdated)\n",
    "plt.title('Distribution of Coupon Types')\n",
    "plt.xlabel('Coupon Type')\n",
    "plt.ylabel('Count')\n",
    "plt.show()\n"
   ]
  },
  {
   "cell_type": "markdown",
   "id": "5702a874-69c0-44fc-b0f9-302a6a6d7b7a",
   "metadata": {},
   "source": [
    "##### 6.2 Use a histogram to visualize the temperature column."
   ]
  },
  {
   "cell_type": "code",
   "execution_count": 332,
   "id": "511d3c90-f613-45b1-a9aa-3734e6fb92a1",
   "metadata": {},
   "outputs": [
    {
     "data": {
      "image/png": "[encoded data removed]",
      "text/plain": [
       "<Figure size 1000x600 with 1 Axes>"
      ]
     },
     "metadata": {},
     "output_type": "display_data"
    }
   ],
   "source": [
    "plt.figure(figsize=(10, 6))\n",
    "sns.histplot(dfCouponUpdated['temperature'], kde=True) # Added kde=True for a kernel density estimate curve\n",
    "plt.title('Distribution of Temperature')\n",
    "plt.xlabel('Temperature')\n",
    "plt.ylabel('Frequency')\n",
    "plt.show()"
   ]
  },
  {
   "cell_type": "markdown",
   "id": "afe4d360-dd46-4b8f-8867-08a99ac4b671",
   "metadata": {},
   "source": [
    "##### 7. Data exploration"
   ]
  },
  {
   "cell_type": "markdown",
   "id": "77b70d5c-332a-4ff8-b2b1-389e4d5e45a8",
   "metadata": {},
   "source": [
    "##### 7.1 Create a new `DataFrame` that contains just the bar coupons."
   ]
  },
  {
   "cell_type": "code",
   "execution_count": 334,
   "id": "e9f1cce0-0187-4027-ab33-216c43285e4a",
   "metadata": {},
   "outputs": [],
   "source": [
    "dfbarcoupons = dfCouponUpdated[dfCouponUpdated['coupon'] == 'Bar']"
   ]
  },
  {
   "cell_type": "code",
   "execution_count": 336,
   "id": "aa6d1178-c55e-4fab-a39a-e8c3295683be",
   "metadata": {},
   "outputs": [
    {
     "name": "stdout",
     "output_type": "stream",
     "text": [
      "<class 'pandas.core.frame.DataFrame'>\n",
      "Index: 2010 entries, 9 to 12682\n",
      "Data columns (total 25 columns):\n",
      " #   Column                Non-Null Count  Dtype \n",
      "---  ------                --------------  ----- \n",
      " 0   destination           2010 non-null   object\n",
      " 1   passanger             2010 non-null   object\n",
      " 2   weather               2010 non-null   object\n",
      " 3   temperature           2010 non-null   int64 \n",
      " 4   time                  2010 non-null   object\n",
      " 5   coupon                2010 non-null   object\n",
      " 6   expiration            2010 non-null   object\n",
      " 7   gender                2010 non-null   object\n",
      " 8   age                   2010 non-null   object\n",
      " 9   maritalStatus         2010 non-null   object\n",
      " 10  has_children          2010 non-null   int64 \n",
      " 11  education             2010 non-null   object\n",
      " 12  occupation            2010 non-null   object\n",
      " 13  income                2010 non-null   object\n",
      " 14  Bar                   2010 non-null   object\n",
      " 15  CoffeeHouse           2010 non-null   object\n",
      " 16  CarryAway             2010 non-null   object\n",
      " 17  RestaurantLessThan20  2010 non-null   object\n",
      " 18  Restaurant20To50      2010 non-null   object\n",
      " 19  toCoupon_GEQ5min      2010 non-null   int64 \n",
      " 20  toCoupon_GEQ15min     2010 non-null   int64 \n",
      " 21  toCoupon_GEQ25min     2010 non-null   int64 \n",
      " 22  direction_same        2010 non-null   int64 \n",
      " 23  direction_opp         2010 non-null   int64 \n",
      " 24  Y                     2010 non-null   int64 \n",
      "dtypes: int64(8), object(17)\n",
      "memory usage: 408.3+ KB\n"
     ]
    }
   ],
   "source": [
    "dfbarcoupons.info()"
   ]
  },
  {
   "cell_type": "code",
   "execution_count": 338,
   "id": "79db7dd8-9ef0-4c09-b71a-ab0aa8a0c602",
   "metadata": {},
   "outputs": [
    {
     "data": {
      "text/html": [
       "<div>\n",
       "<style scoped>\n",
       "    .dataframe tbody tr th:only-of-type {\n",
       "        vertical-align: middle;\n",
       "    }\n",
       "\n",
       "    .dataframe tbody tr th {\n",
       "        vertical-align: top;\n",
       "    }\n",
       "\n",
       "    .dataframe thead th {\n",
       "        text-align: right;\n",
       "    }\n",
       "</style>\n",
       "<table border=\"1\" class=\"dataframe\">\n",
       "  <thead>\n",
       "    <tr style=\"text-align: right;\">\n",
       "      <th></th>\n",
       "      <th>destination</th>\n",
       "      <th>passanger</th>\n",
       "      <th>weather</th>\n",
       "      <th>temperature</th>\n",
       "      <th>time</th>\n",
       "      <th>coupon</th>\n",
       "      <th>expiration</th>\n",
       "      <th>gender</th>\n",
       "      <th>age</th>\n",
       "      <th>maritalStatus</th>\n",
       "      <th>...</th>\n",
       "      <th>CoffeeHouse</th>\n",
       "      <th>CarryAway</th>\n",
       "      <th>RestaurantLessThan20</th>\n",
       "      <th>Restaurant20To50</th>\n",
       "      <th>toCoupon_GEQ5min</th>\n",
       "      <th>toCoupon_GEQ15min</th>\n",
       "      <th>toCoupon_GEQ25min</th>\n",
       "      <th>direction_same</th>\n",
       "      <th>direction_opp</th>\n",
       "      <th>Y</th>\n",
       "    </tr>\n",
       "  </thead>\n",
       "  <tbody>\n",
       "    <tr>\n",
       "      <th>9</th>\n",
       "      <td>No Urgent Place</td>\n",
       "      <td>Kid(s)</td>\n",
       "      <td>Sunny</td>\n",
       "      <td>80</td>\n",
       "      <td>10AM</td>\n",
       "      <td>Bar</td>\n",
       "      <td>1d</td>\n",
       "      <td>Female</td>\n",
       "      <td>21</td>\n",
       "      <td>Unmarried partner</td>\n",
       "      <td>...</td>\n",
       "      <td>never</td>\n",
       "      <td>nan</td>\n",
       "      <td>4~8</td>\n",
       "      <td>1~3</td>\n",
       "      <td>1</td>\n",
       "      <td>1</td>\n",
       "      <td>0</td>\n",
       "      <td>0</td>\n",
       "      <td>1</td>\n",
       "      <td>0</td>\n",
       "    </tr>\n",
       "    <tr>\n",
       "      <th>13</th>\n",
       "      <td>Home</td>\n",
       "      <td>Alone</td>\n",
       "      <td>Sunny</td>\n",
       "      <td>55</td>\n",
       "      <td>6PM</td>\n",
       "      <td>Bar</td>\n",
       "      <td>1d</td>\n",
       "      <td>Female</td>\n",
       "      <td>21</td>\n",
       "      <td>Unmarried partner</td>\n",
       "      <td>...</td>\n",
       "      <td>never</td>\n",
       "      <td>nan</td>\n",
       "      <td>4~8</td>\n",
       "      <td>1~3</td>\n",
       "      <td>1</td>\n",
       "      <td>0</td>\n",
       "      <td>0</td>\n",
       "      <td>1</td>\n",
       "      <td>0</td>\n",
       "      <td>1</td>\n",
       "    </tr>\n",
       "    <tr>\n",
       "      <th>17</th>\n",
       "      <td>Work</td>\n",
       "      <td>Alone</td>\n",
       "      <td>Sunny</td>\n",
       "      <td>55</td>\n",
       "      <td>7AM</td>\n",
       "      <td>Bar</td>\n",
       "      <td>1d</td>\n",
       "      <td>Female</td>\n",
       "      <td>21</td>\n",
       "      <td>Unmarried partner</td>\n",
       "      <td>...</td>\n",
       "      <td>never</td>\n",
       "      <td>nan</td>\n",
       "      <td>4~8</td>\n",
       "      <td>1~3</td>\n",
       "      <td>1</td>\n",
       "      <td>1</td>\n",
       "      <td>1</td>\n",
       "      <td>0</td>\n",
       "      <td>1</td>\n",
       "      <td>0</td>\n",
       "    </tr>\n",
       "    <tr>\n",
       "      <th>24</th>\n",
       "      <td>No Urgent Place</td>\n",
       "      <td>Friend(s)</td>\n",
       "      <td>Sunny</td>\n",
       "      <td>80</td>\n",
       "      <td>10AM</td>\n",
       "      <td>Bar</td>\n",
       "      <td>1d</td>\n",
       "      <td>Male</td>\n",
       "      <td>21</td>\n",
       "      <td>Single</td>\n",
       "      <td>...</td>\n",
       "      <td>less1</td>\n",
       "      <td>4~8</td>\n",
       "      <td>4~8</td>\n",
       "      <td>less1</td>\n",
       "      <td>1</td>\n",
       "      <td>0</td>\n",
       "      <td>0</td>\n",
       "      <td>0</td>\n",
       "      <td>1</td>\n",
       "      <td>1</td>\n",
       "    </tr>\n",
       "    <tr>\n",
       "      <th>35</th>\n",
       "      <td>Home</td>\n",
       "      <td>Alone</td>\n",
       "      <td>Sunny</td>\n",
       "      <td>55</td>\n",
       "      <td>6PM</td>\n",
       "      <td>Bar</td>\n",
       "      <td>1d</td>\n",
       "      <td>Male</td>\n",
       "      <td>21</td>\n",
       "      <td>Single</td>\n",
       "      <td>...</td>\n",
       "      <td>less1</td>\n",
       "      <td>4~8</td>\n",
       "      <td>4~8</td>\n",
       "      <td>less1</td>\n",
       "      <td>1</td>\n",
       "      <td>0</td>\n",
       "      <td>0</td>\n",
       "      <td>1</td>\n",
       "      <td>0</td>\n",
       "      <td>1</td>\n",
       "    </tr>\n",
       "  </tbody>\n",
       "</table>\n",
       "<p>5 rows × 25 columns</p>\n",
       "</div>"
      ],
      "text/plain": [
       "        destination  passanger weather  temperature  time coupon expiration  \\\n",
       "9   No Urgent Place     Kid(s)   Sunny           80  10AM    Bar         1d   \n",
       "13             Home      Alone   Sunny           55   6PM    Bar         1d   \n",
       "17             Work      Alone   Sunny           55   7AM    Bar         1d   \n",
       "24  No Urgent Place  Friend(s)   Sunny           80  10AM    Bar         1d   \n",
       "35             Home      Alone   Sunny           55   6PM    Bar         1d   \n",
       "\n",
       "    gender age      maritalStatus  ...  CoffeeHouse CarryAway  \\\n",
       "9   Female  21  Unmarried partner  ...        never       nan   \n",
       "13  Female  21  Unmarried partner  ...        never       nan   \n",
       "17  Female  21  Unmarried partner  ...        never       nan   \n",
       "24    Male  21             Single  ...        less1       4~8   \n",
       "35    Male  21             Single  ...        less1       4~8   \n",
       "\n",
       "   RestaurantLessThan20 Restaurant20To50 toCoupon_GEQ5min toCoupon_GEQ15min  \\\n",
       "9                   4~8              1~3                1                 1   \n",
       "13                  4~8              1~3                1                 0   \n",
       "17                  4~8              1~3                1                 1   \n",
       "24                  4~8            less1                1                 0   \n",
       "35                  4~8            less1                1                 0   \n",
       "\n",
       "   toCoupon_GEQ25min direction_same direction_opp  Y  \n",
       "9                  0              0             1  0  \n",
       "13                 0              1             0  1  \n",
       "17                 1              0             1  0  \n",
       "24                 0              0             1  1  \n",
       "35                 0              1             0  1  \n",
       "\n",
       "[5 rows x 25 columns]"
      ]
     },
     "execution_count": 338,
     "metadata": {},
     "output_type": "execute_result"
    }
   ],
   "source": [
    "dfbarcoupons.head()"
   ]
  },
  {
   "cell_type": "markdown",
   "id": "c1bddde6-2476-46dc-9f94-ed254d5a83a2",
   "metadata": {},
   "source": [
    "##### 7.2 What proportion of bar coupons were accepted?"
   ]
  },
  {
   "cell_type": "code",
   "execution_count": 341,
   "id": "2138a5cf-5eb3-45df-a120-354cedcfb7d5",
   "metadata": {},
   "outputs": [],
   "source": [
    "bar_accepted_coupons = dfbarcoupons[dfbarcoupons['Y'] == 1].shape[0]\n",
    "bar_total_coupons = dfbarcoupons.shape[0]\n",
    "bar_proportion_accepted = bar_accepted_coupons / bar_total_coupons"
   ]
  },
  {
   "cell_type": "code",
   "execution_count": 343,
   "id": "6e49b394-f124-4880-bf18-853c75a0b801",
   "metadata": {},
   "outputs": [
    {
     "name": "stdout",
     "output_type": "stream",
     "text": [
      "accepted coupons = 824\n",
      "total coupons = 2010\n",
      "proportion_accepted = 0.4099502487562189\n"
     ]
    }
   ],
   "source": [
    "print (f\"accepted coupons = {bar_accepted_coupons}\\ntotal coupons = {bar_total_coupons}\\nproportion_accepted = {bar_proportion_accepted}\")"
   ]
  },
  {
   "cell_type": "markdown",
   "id": "8555858e-29f7-4523-8543-9b50f862b4fa",
   "metadata": {},
   "source": [
    "##### 7.3 Compare the acceptance rate between those who went to a bar 3 or fewer times a month to those who went more."
   ]
  },
  {
   "cell_type": "code",
   "execution_count": 350,
   "id": "726cd9b1-6f8a-4067-977d-105ed6b2978b",
   "metadata": {},
   "outputs": [],
   "source": [
    "dfbarcoupons1to3times = dfbarcoupons[dfbarcoupons['Bar'] == '1~3']"
   ]
  },
  {
   "cell_type": "code",
   "execution_count": 372,
   "id": "ac8c35be-eb2d-4fed-9a56-90228f08aa95",
   "metadata": {},
   "outputs": [
    {
     "data": {
      "text/html": [
       "<div>\n",
       "<style scoped>\n",
       "    .dataframe tbody tr th:only-of-type {\n",
       "        vertical-align: middle;\n",
       "    }\n",
       "\n",
       "    .dataframe tbody tr th {\n",
       "        vertical-align: top;\n",
       "    }\n",
       "\n",
       "    .dataframe thead th {\n",
       "        text-align: right;\n",
       "    }\n",
       "</style>\n",
       "<table border=\"1\" class=\"dataframe\">\n",
       "  <thead>\n",
       "    <tr style=\"text-align: right;\">\n",
       "      <th></th>\n",
       "      <th>destination</th>\n",
       "      <th>passanger</th>\n",
       "      <th>weather</th>\n",
       "      <th>temperature</th>\n",
       "      <th>time</th>\n",
       "      <th>coupon</th>\n",
       "      <th>expiration</th>\n",
       "      <th>gender</th>\n",
       "      <th>age</th>\n",
       "      <th>maritalStatus</th>\n",
       "      <th>has_children</th>\n",
       "      <th>education</th>\n",
       "      <th>occupation</th>\n",
       "      <th>income</th>\n",
       "      <th>Bar</th>\n",
       "    </tr>\n",
       "  </thead>\n",
       "  <tbody>\n",
       "    <tr>\n",
       "      <th>90</th>\n",
       "      <td>No Urgent Place</td>\n",
       "      <td>Friend(s)</td>\n",
       "      <td>Sunny</td>\n",
       "      <td>80</td>\n",
       "      <td>10AM</td>\n",
       "      <td>Bar</td>\n",
       "      <td>1d</td>\n",
       "      <td>Male</td>\n",
       "      <td>21</td>\n",
       "      <td>Single</td>\n",
       "      <td>0</td>\n",
       "      <td>Associates degree</td>\n",
       "      <td>Student</td>\n",
       "      <td>$12500 - $24999</td>\n",
       "      <td>1~3</td>\n",
       "    </tr>\n",
       "    <tr>\n",
       "      <th>101</th>\n",
       "      <td>Home</td>\n",
       "      <td>Alone</td>\n",
       "      <td>Sunny</td>\n",
       "      <td>55</td>\n",
       "      <td>6PM</td>\n",
       "      <td>Bar</td>\n",
       "      <td>1d</td>\n",
       "      <td>Male</td>\n",
       "      <td>21</td>\n",
       "      <td>Single</td>\n",
       "      <td>0</td>\n",
       "      <td>Associates degree</td>\n",
       "      <td>Student</td>\n",
       "      <td>$12500 - $24999</td>\n",
       "      <td>1~3</td>\n",
       "    </tr>\n",
       "    <tr>\n",
       "      <th>105</th>\n",
       "      <td>Work</td>\n",
       "      <td>Alone</td>\n",
       "      <td>Sunny</td>\n",
       "      <td>55</td>\n",
       "      <td>7AM</td>\n",
       "      <td>Bar</td>\n",
       "      <td>1d</td>\n",
       "      <td>Male</td>\n",
       "      <td>21</td>\n",
       "      <td>Single</td>\n",
       "      <td>0</td>\n",
       "      <td>Associates degree</td>\n",
       "      <td>Student</td>\n",
       "      <td>$12500 - $24999</td>\n",
       "      <td>1~3</td>\n",
       "    </tr>\n",
       "    <tr>\n",
       "      <th>112</th>\n",
       "      <td>No Urgent Place</td>\n",
       "      <td>Friend(s)</td>\n",
       "      <td>Sunny</td>\n",
       "      <td>80</td>\n",
       "      <td>10AM</td>\n",
       "      <td>Bar</td>\n",
       "      <td>1d</td>\n",
       "      <td>Male</td>\n",
       "      <td>26</td>\n",
       "      <td>Unmarried partner</td>\n",
       "      <td>0</td>\n",
       "      <td>Bachelors degree</td>\n",
       "      <td>Student</td>\n",
       "      <td>$50000 - $62499</td>\n",
       "      <td>1~3</td>\n",
       "    </tr>\n",
       "    <tr>\n",
       "      <th>123</th>\n",
       "      <td>Home</td>\n",
       "      <td>Alone</td>\n",
       "      <td>Sunny</td>\n",
       "      <td>55</td>\n",
       "      <td>6PM</td>\n",
       "      <td>Bar</td>\n",
       "      <td>1d</td>\n",
       "      <td>Male</td>\n",
       "      <td>26</td>\n",
       "      <td>Unmarried partner</td>\n",
       "      <td>0</td>\n",
       "      <td>Bachelors degree</td>\n",
       "      <td>Student</td>\n",
       "      <td>$50000 - $62499</td>\n",
       "      <td>1~3</td>\n",
       "    </tr>\n",
       "  </tbody>\n",
       "</table>\n",
       "</div>"
      ],
      "text/plain": [
       "         destination  passanger weather  temperature  time coupon expiration  \\\n",
       "90   No Urgent Place  Friend(s)   Sunny           80  10AM    Bar         1d   \n",
       "101             Home      Alone   Sunny           55   6PM    Bar         1d   \n",
       "105             Work      Alone   Sunny           55   7AM    Bar         1d   \n",
       "112  No Urgent Place  Friend(s)   Sunny           80  10AM    Bar         1d   \n",
       "123             Home      Alone   Sunny           55   6PM    Bar         1d   \n",
       "\n",
       "    gender age      maritalStatus  has_children          education occupation  \\\n",
       "90    Male  21             Single             0  Associates degree    Student   \n",
       "101   Male  21             Single             0  Associates degree    Student   \n",
       "105   Male  21             Single             0  Associates degree    Student   \n",
       "112   Male  26  Unmarried partner             0   Bachelors degree    Student   \n",
       "123   Male  26  Unmarried partner             0   Bachelors degree    Student   \n",
       "\n",
       "              income  Bar  \n",
       "90   $12500 - $24999  1~3  \n",
       "101  $12500 - $24999  1~3  \n",
       "105  $12500 - $24999  1~3  \n",
       "112  $50000 - $62499  1~3  \n",
       "123  $50000 - $62499  1~3  "
      ]
     },
     "execution_count": 372,
     "metadata": {},
     "output_type": "execute_result"
    }
   ],
   "source": [
    "dfbarcoupons1to3times.iloc[:,:15].head()"
   ]
  },
  {
   "cell_type": "code",
   "execution_count": 386,
   "id": "aa0cb466-9382-47d3-864b-7c08b73789fc",
   "metadata": {},
   "outputs": [],
   "source": [
    "bar_accepted_coupons1to3 = dfbarcoupons1to3times[dfbarcoupons1to3times['Y']==1].shape[0]"
   ]
  },
  {
   "cell_type": "code",
   "execution_count": 388,
   "id": "889d95de-c506-4c69-b0e1-5d51c3d457ef",
   "metadata": {},
   "outputs": [],
   "source": [
    "bar_total_coupons1to3 = dfbarcoupons1to3times.shape[0]"
   ]
  },
  {
   "cell_type": "code",
   "execution_count": 390,
   "id": "78449f9e-0c33-4d94-9dc6-93f90bd5247a",
   "metadata": {},
   "outputs": [],
   "source": [
    "bar_proportion_coupons1to3 = bar_accepted_coupons1to3/bar_total_coupons1to3"
   ]
  },
  {
   "cell_type": "code",
   "execution_count": 396,
   "id": "41206073-c43e-4350-a4d8-f12b9864f853",
   "metadata": {},
   "outputs": [
    {
     "name": "stdout",
     "output_type": "stream",
     "text": [
      "accepted rate coupons 1to3 times = 257\n",
      "total coupons = 397\n",
      "proportion_accepted = 0.6473551637279596\n"
     ]
    }
   ],
   "source": [
    "print (f\"accepted rate coupons 1to3 times = {bar_accepted_coupons1to3}\\ntotal coupons = {bar_total_coupons1to3}\\nproportion_accepted = {bar_proportion_coupons1to3}\")"
   ]
  },
  {
   "cell_type": "code",
   "execution_count": 386,
   "id": "eeb4f710-24cd-4d0e-a6af-6842e3aa1cca",
   "metadata": {},
   "outputs": [],
   "source": [
    "bar_accepted_coupons1to3 = dfbarcoupons1to3times[dfbarcoupons1to3times['Y']==1].shape[0]"
   ]
  },
  {
   "cell_type": "code",
   "execution_count": 424,
   "id": "644fbda0-42a0-42c1-8dcb-5ab3640f33f2",
   "metadata": {},
   "outputs": [
    {
     "data": {
      "image/png": "[encoded data removed]",
      "text/plain": [
       "<Figure size 1000x600 with 1 Axes>"
      ]
     },
     "metadata": {},
     "output_type": "display_data"
    },
    {
     "name": "stdout",
     "output_type": "stream",
     "text": [
      "Y\n",
      "1    257\n",
      "0    140\n",
      "Name: count, dtype: int64\n"
     ]
    },
    {
     "data": {
      "image/png": "[encoded data removed]",
      "text/plain": [
       "<Figure size 640x480 with 1 Axes>"
      ]
     },
     "metadata": {},
     "output_type": "display_data"
    }
   ],
   "source": [
    "plt.figure(figsize=(10, 6))\n",
    "sns.countplot(hue='Bar', x='Y', data=dfbarcoupons1to3times)\n",
    "plt.title('Compare the acceptance rate 1~3')\n",
    "plt.show()\n",
    "\n",
    "dfbarcoupons1to3times['Y'].value_counts().plot(kind='pie',explode=[0.1,0.1],autopct='%1.1f%%',colors=['g','r'])\n",
    "print(dfbarcoupons1to3times['Y'].value_counts())\n"
   ]
  },
  {
   "cell_type": "code",
   "execution_count": null,
   "id": "9bd2f9c9-425b-43f1-b0e6-1d27966044bd",
   "metadata": {},
   "outputs": [],
   "source": []
  }
 ],
 "metadata": {
  "kernelspec": {
   "display_name": "Python 3 (ipykernel)",
   "language": "python",
   "name": "python3"
  },
  "language_info": {
   "codemirror_mode": {
    "name": "ipython",
    "version": 3
   },
   "file_extension": ".py",
   "mimetype": "text/x-python",
   "name": "python",
   "nbconvert_exporter": "python",
   "pygments_lexer": "ipython3",
   "version": "3.12.7"
  }
 },
 "nbformat": 4,
 "nbformat_minor": 5
}
